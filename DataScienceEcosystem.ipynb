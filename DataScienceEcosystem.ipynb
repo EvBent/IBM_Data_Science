{
 "cells": [
  {
   "cell_type": "markdown",
   "id": "d225b7f3-dc15-4c85-987e-db431fca6a2a",
   "metadata": {},
   "source": [
    "# Data Science Tools and Ecosystem"
   ]
  },
  {
   "cell_type": "markdown",
   "id": "2769772f-cfef-4749-95aa-17b431b25a0c",
   "metadata": {},
   "source": [
    "In this notebook, Data Science Tools and Ecosystem are summarized."
   ]
  },
  {
   "cell_type": "markdown",
   "id": "5a6733f5-14db-4db9-8034-7ea51cf47c33",
   "metadata": {},
   "source": [
    "**Objectives:**\n",
    "--------------\n",
    "* List common languages in data science \n",
    "* List common data science tools\n",
    "* Showcase basic arithmetic"
   ]
  },
  {
   "cell_type": "markdown",
   "id": "ff5242c0-afd5-4019-9d4e-4dc10a5d720f",
   "metadata": {},
   "source": [
    "Some of the popular languages that Data Scientists use are:\n",
    "1. Python\n",
    "2. R\n",
    "3. Julia\n",
    "4. Scala\n",
    "5. SQL"
   ]
  },
  {
   "cell_type": "markdown",
   "id": "86295d0f-612c-4075-a37c-1c5aaae13860",
   "metadata": {},
   "source": [
    "Some of the commonly used libraries used by Data Scientists include:\n",
    "1. Pandas\n",
    "2. Scikit Learn\n",
    "3. Tensorflow"
   ]
  },
  {
   "cell_type": "markdown",
   "id": "567c210e-a301-4ef0-8170-3903661ffd0c",
   "metadata": {},
   "source": [
    "| Data Science Tools    |\n",
    "|-----------------------|\n",
    "| JupyterLab            |\n",
    "| R Studio              |\n",
    "| VScode                |\n"
   ]
  },
  {
   "cell_type": "markdown",
   "id": "b6df6b06-3933-449f-9e0f-90b65ffa85f2",
   "metadata": {},
   "source": [
    "### Below are a few examples of evaluating arithmetic expressions in Python."
   ]
  },
  {
   "cell_type": "code",
   "execution_count": 4,
   "id": "9871b89e-d4ef-48ce-a82d-0ce30261310e",
   "metadata": {},
   "outputs": [
    {
     "data": {
      "text/plain": [
       "17"
      ]
     },
     "execution_count": 4,
     "metadata": {},
     "output_type": "execute_result"
    }
   ],
   "source": [
    "#This a simple arithmetic expression to mutiply then add integers.\n",
    "(3*4)+5"
   ]
  },
  {
   "cell_type": "code",
   "execution_count": 5,
   "id": "109bcca9-cb78-452f-8a72-2cd9e2167748",
   "metadata": {},
   "outputs": [
    {
     "data": {
      "text/plain": [
       "3.3333333333333335"
      ]
     },
     "execution_count": 5,
     "metadata": {},
     "output_type": "execute_result"
    }
   ],
   "source": [
    "#This will convert 200 minutes to hours by diving by 60\n",
    "200/60"
   ]
  },
  {
   "cell_type": "markdown",
   "id": "d8e80bde-71cb-480b-b64a-3266d277b638",
   "metadata": {},
   "source": [
    "## Author\n",
    "Evan"
   ]
  },
  {
   "cell_type": "code",
   "execution_count": null,
   "id": "9b2737cf-46d4-46e2-9527-68d45d90a99a",
   "metadata": {},
   "outputs": [],
   "source": []
  }
 ],
 "metadata": {
  "kernelspec": {
   "display_name": "Python 3 (ipykernel)",
   "language": "python",
   "name": "python3"
  },
  "language_info": {
   "codemirror_mode": {
    "name": "ipython",
    "version": 3
   },
   "file_extension": ".py",
   "mimetype": "text/x-python",
   "name": "python",
   "nbconvert_exporter": "python",
   "pygments_lexer": "ipython3",
   "version": "3.8.15"
  }
 },
 "nbformat": 4,
 "nbformat_minor": 5
}
